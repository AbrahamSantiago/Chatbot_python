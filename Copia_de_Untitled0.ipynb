{
  "nbformat": 4,
  "nbformat_minor": 0,
  "metadata": {
    "colab": {
      "provenance": []
    },
    "kernelspec": {
      "name": "python3",
      "display_name": "Python 3"
    },
    "language_info": {
      "name": "python"
    }
  },
  "cells": [
    {
      "cell_type": "code",
      "execution_count": null,
      "metadata": {
        "colab": {
          "base_uri": "https://localhost:8080/"
        },
        "id": "PDXot3cT4dcK",
        "outputId": "40a6c08b-8b75-4c8d-a340-1b512e0c0786"
      },
      "outputs": [
        {
          "output_type": "stream",
          "name": "stdout",
          "text": [
            "Looking in indexes: https://pypi.org/simple, https://us-python.pkg.dev/colab-wheels/public/simple/\n",
            "Requirement already satisfied: nltk in /usr/local/lib/python3.7/dist-packages (3.7)\n",
            "Requirement already satisfied: joblib in /usr/local/lib/python3.7/dist-packages (from nltk) (1.1.0)\n",
            "Requirement already satisfied: click in /usr/local/lib/python3.7/dist-packages (from nltk) (7.1.2)\n",
            "Requirement already satisfied: regex>=2021.8.3 in /usr/local/lib/python3.7/dist-packages (from nltk) (2022.6.2)\n",
            "Requirement already satisfied: tqdm in /usr/local/lib/python3.7/dist-packages (from nltk) (4.64.1)\n",
            "Looking in indexes: https://pypi.org/simple, https://us-python.pkg.dev/colab-wheels/public/simple/\n",
            "Requirement already satisfied: chatterbot in /usr/local/lib/python3.7/dist-packages (1.0.8)\n",
            "Requirement already satisfied: python-dateutil<2.9,>=2.8 in /usr/local/lib/python3.7/dist-packages (from chatterbot) (2.8.2)\n",
            "Requirement already satisfied: pytz in /usr/local/lib/python3.7/dist-packages (from chatterbot) (2022.2.1)\n",
            "Requirement already satisfied: sqlalchemy<1.4,>=1.3 in /usr/local/lib/python3.7/dist-packages (from chatterbot) (1.3.24)\n",
            "Requirement already satisfied: mathparse<0.2,>=0.1 in /usr/local/lib/python3.7/dist-packages (from chatterbot) (0.1.2)\n",
            "Requirement already satisfied: six>=1.5 in /usr/local/lib/python3.7/dist-packages (from python-dateutil<2.9,>=2.8->chatterbot) (1.15.0)\n"
          ]
        }
      ],
      "source": [
        "!pip3 install nltk\n",
        "!pip3 install chatterbot"
      ]
    },
    {
      "cell_type": "code",
      "source": [
        "import nltk\n",
        "from nltk.chat.util import Chat, reflections\n",
        "\n",
        "mis_reflexions={\n",
        "    \"ir\": \"fui\",\n",
        "    \"hola\":\"hey\"\n",
        "}\n",
        "pares =[\n",
        "    [\n",
        "        r\"mi nombre es(.*)\",\n",
        "        [\"hola %l, como estas?\",]\n",
        "    ],\n",
        "    [\n",
        "        r\"cual es tu nombre ?\",\n",
        "        [\"Mi nombre es Chatbot\",]\n",
        "    ],\n",
        "    [\n",
        "        r\"como estas ?\",\n",
        "        [\"Bien y tú ?\",]\n",
        "\n",
        "    ],\n",
        "    [\n",
        "      r\"disculpa (.*)\",\n",
        "      [\"No pasa nada\",]\n",
        "    ],\n",
        "    [\n",
        "        r\"hola|hey|buenas\",\n",
        "        [\"Hola\",\"Que tal\",]\n",
        "    ],\n",
        "    [\n",
        "        r\"que quieres(.*)\",\n",
        "        [\"Fui creado hoy\",]\n",
        "    ]\n",
        "]\n",
        "\n",
        "def chatear():\n",
        "  print(\"Hola soy un Bot, escribe algpo para comenzar\")\n",
        "  chat = Chat(pares,mis_reflexions)\n",
        "  chat.converse()\n",
        "\n",
        "if __name__== \"__main__\":\n",
        "  chatear()\n",
        "\n"
      ],
      "metadata": {
        "colab": {
          "base_uri": "https://localhost:8080/"
        },
        "id": "tv-ODEYaA2Br",
        "outputId": "fc64377b-d454-4953-ad00-1b68c5fe1056"
      },
      "execution_count": null,
      "outputs": [
        {
          "output_type": "stream",
          "name": "stdout",
          "text": [
            "Hola soy un Bot, escribe algpo para comenzar\n",
            ">que quieres\n",
            "Fui creado hoy\n"
          ]
        }
      ]
    }
  ]
}